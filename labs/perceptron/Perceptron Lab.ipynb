{
 "cells": [
  {
   "cell_type": "markdown",
   "metadata": {
    "id": "DVL7_bgmIAPR"
   },
   "source": [
    "# Perceptron Lab"
   ]
  },
  {
   "cell_type": "markdown",
   "metadata": {
    "id": "rBIfzcfn3QPO"
   },
   "source": [
    "This is the scaffold notebook for the perceptron lab and each lab will have a similar scaffold.  Make your own copy of this notebook and then you can fill in the tasks.  **You will fill in code boxes and test boxes with discussion for most tasks** and particularly discussion of results, graphs, etc. Good writing, grammar, punctuation, etc. are important and points will be taken off if these things are lacking. \n",
    "\n",
    "<b><u>In most cases just reporting results without discussion will not receive full credit.</u></b> Thus, your discussion should also include sentences like the following: This is because…  Note that the …  I was surprised to observe… I am not sure why …, but my hypothesis is that …\n",
    "\n",
    "Start by looking over the scikit-learn [user guide](https://scikit-learn.org/stable/user_guide.html) and carefully reading over the [perceptron documentation](https://scikit-learn.org/stable/modules/generated/sklearn.linear_model.Perceptron.html)."
   ]
  },
  {
   "cell_type": "code",
   "execution_count": 12,
   "metadata": {
    "id": "6ZbYjZZZ_yLV"
   },
   "outputs": [],
   "source": [
    "# imports\n",
    "import numpy as np\n",
    "from scipy.io import arff\n",
    "import pandas as pd\n"
   ]
  },
  {
   "cell_type": "markdown",
   "metadata": {
    "id": "KibCIXIThpbE"
   },
   "source": [
    "## 1. Debug and Evaluation\n",
    "\n",
    "For most labs we will give you some data and expected results so that you can verify that you are doing things right and getting appropriate results.  We will then have you run on some other data with the exact same hyperparameters so we can see if your results are correct. \n",
    "\n",
    "### 1.1 Debug (5%)\n",
    "Download this [data set](https://raw.githubusercontent.com/cs472ta/CS472/master/datasets/linsep2nonorigin.arff) into your local directory and name it debug.arff.  To download rather than view, right-click the link and save as.  To allow consistent results run the Perceptron using the following hyperparameters:\n",
    "- Learning rate = .1\n",
    "- Do NOT shuffle the data after every epoch like you would normally do\n",
    "- Learn for a maximum of 10 epochs\n",
    "- Start all weights at 0 (which is the default for this scikit-learn implementation)  \n",
    "\n",
    "Your results should be:\n",
    "Accuracy = [.875]\\\n",
    "Final Weights = [[-0.23  0.18]]\\\n",
    "[-0.1] - This last weight is the bias weight, which they call the intercept.\n",
    "\n",
    "To help you with this first task, following is one detailed variation that would do this for you. You may use your own variation.  Note that commonly used variable names in the community are clf (classifier), X (array of input features), y (vector of output labels)."
   ]
  },
  {
   "cell_type": "code",
   "execution_count": 3,
   "metadata": {
    "id": "KgAyy82gixIF"
   },
   "outputs": [
    {
     "name": "stdout",
     "output_type": "stream",
     "text": [
      "-- Epoch 1\n",
      "Norm: 0.04, NNZs: 2, Bias: -0.100000, T: 8, Avg. loss: 0.013500\n",
      "Total training time: 0.00 seconds.\n",
      "-- Epoch 2\n",
      "Norm: 0.07, NNZs: 2, Bias: -0.100000, T: 16, Avg. loss: 0.011875\n",
      "Total training time: 0.00 seconds.\n",
      "-- Epoch 3\n",
      "Norm: 0.11, NNZs: 2, Bias: -0.100000, T: 24, Avg. loss: 0.010250\n",
      "Total training time: 0.00 seconds.\n",
      "-- Epoch 4\n",
      "Norm: 0.14, NNZs: 2, Bias: -0.100000, T: 32, Avg. loss: 0.008625\n",
      "Total training time: 0.00 seconds.\n",
      "-- Epoch 5\n",
      "Norm: 0.18, NNZs: 2, Bias: -0.100000, T: 40, Avg. loss: 0.007000\n",
      "Total training time: 0.00 seconds.\n",
      "-- Epoch 6\n",
      "Norm: 0.21, NNZs: 2, Bias: -0.100000, T: 48, Avg. loss: 0.005375\n",
      "Total training time: 0.00 seconds.\n",
      "-- Epoch 7\n",
      "Norm: 0.23, NNZs: 2, Bias: -0.100000, T: 56, Avg. loss: 0.008250\n",
      "Total training time: 0.00 seconds.\n",
      "-- Epoch 8\n",
      "Norm: 0.25, NNZs: 2, Bias: -0.100000, T: 64, Avg. loss: 0.007625\n",
      "Total training time: 0.00 seconds.\n",
      "-- Epoch 9\n",
      "Norm: 0.27, NNZs: 2, Bias: -0.100000, T: 72, Avg. loss: 0.007000\n",
      "Total training time: 0.00 seconds.\n",
      "-- Epoch 10\n",
      "Norm: 0.29, NNZs: 2, Bias: -0.100000, T: 80, Avg. loss: 0.006375\n",
      "Total training time: 0.00 seconds.\n",
      "[[-0.23  0.18]]\n",
      "[-0.1]\n",
      "0.875\n"
     ]
    },
    {
     "name": "stderr",
     "output_type": "stream",
     "text": [
      "c:\\Users\\IanJE\\Documents\\byu_cs\\cs270\\sklearn-env\\Lib\\site-packages\\sklearn\\linear_model\\_stochastic_gradient.py:738: ConvergenceWarning: Maximum number of iteration reached before convergence. Consider increasing max_iter to improve the fit.\n",
      "  warnings.warn(\n"
     ]
    }
   ],
   "source": [
    "from sklearn.linear_model import Perceptron\n",
    "\n",
    "clf = Perceptron(shuffle=False, verbose=1, eta0=.1, max_iter=10)\n",
    "Data_Set = arff.loadarff('debug.arff')\n",
    "Data_Set_df = pd.DataFrame(Data_Set[0])\n",
    "Data_Set_np = Data_Set_df.to_numpy()\n",
    "Data_Set_np = Data_Set_np.astype(float)\n",
    "X = Data_Set_np[:, :-1]\n",
    "y = Data_Set_np[:, -1]\n",
    "clf.fit(X, y)\n",
    "print(clf.coef_)\n",
    "print(clf.intercept_)\n",
    "print(clf.score(X, y))"
   ]
  },
  {
   "cell_type": "markdown",
   "metadata": {},
   "source": [
    "Notes:\n",
    "* If you increase (or just remove) max_iter your perceptron will converge to 100% in one more epoch.  Try it!\n",
    "* verbose (integer) specifies how much info you get after each epoch.  It does not change results.  Try it with 0.\n",
    "    * Norm is a measure of the total weight magnitudes in the current model.\n",
    "    * NNZs is the number of non-zero weights there currently are (not including the bias).\n",
    "    * clf.intercept_ is the value of the bias weight, NOT the actual y-intercept of the decision surface, though it will affect that.\n",
    "    * T is the total number of weight updates so far.  In this case all the weights were updated each epoch.\n",
    "    * Avg. loss is another measure of error.  More on that later.\n",
    "    * The activation function outputs 1 if net > 0, else 0."
   ]
  },
  {
   "cell_type": "markdown",
   "metadata": {
    "id": "kY3VNB1ui03N"
   },
   "source": [
    "### 1.2 (5%) Evaluation\n",
    "\n",
    "Now train a perceptron model  on the [banknote authentication dataset](https://raw.githubusercontent.com/cs472ta/CS472/master/datasets/data_banknote_authentication.arff) and report the final accuracy, weights, and bias. Use the exact same hyperparameters as the debug dataset. The most common reason for results not matching ours is not exactly using the same hyperparameters (e.g. initial weights, training exactly 10 epochs, no shuffling, etc.) Hint: Throughout these labs for the numerous cases where you are doing the same task, but with different data (e.g. debug, eval), you could create a function where you just pass the data set name, so as not to recreate the code multiple times."
   ]
  },
  {
   "cell_type": "code",
   "execution_count": 4,
   "metadata": {
    "id": "2yAxA78QjDh2"
   },
   "outputs": [
    {
     "name": "stdout",
     "output_type": "stream",
     "text": [
      "-- Epoch 1\n",
      "Norm: 1.42, NNZs: 4, Bias: 2.100000, T: 1372, Avg. loss: 0.023615\n",
      "Total training time: 0.00 seconds.\n",
      "-- Epoch 2\n",
      "Norm: 2.90, NNZs: 4, Bias: 2.600000, T: 2744, Avg. loss: 0.022359\n",
      "Total training time: 0.00 seconds.\n",
      "-- Epoch 3\n",
      "Norm: 3.62, NNZs: 4, Bias: 3.500000, T: 4116, Avg. loss: 0.028435\n",
      "Total training time: 0.00 seconds.\n",
      "-- Epoch 4\n",
      "Norm: 4.36, NNZs: 4, Bias: 3.700000, T: 5488, Avg. loss: 0.013195\n",
      "Total training time: 0.00 seconds.\n",
      "-- Epoch 5\n",
      "Norm: 4.51, NNZs: 4, Bias: 4.300000, T: 6860, Avg. loss: 0.015216\n",
      "Total training time: 0.00 seconds.\n",
      "-- Epoch 6\n",
      "Norm: 4.70, NNZs: 4, Bias: 4.700000, T: 8232, Avg. loss: 0.026061\n",
      "Total training time: 0.00 seconds.\n",
      "-- Epoch 7\n",
      "Norm: 5.40, NNZs: 4, Bias: 4.600000, T: 9604, Avg. loss: 0.018060\n",
      "Total training time: 0.00 seconds.\n",
      "-- Epoch 8\n",
      "Norm: 5.83, NNZs: 4, Bias: 4.800000, T: 10976, Avg. loss: 0.018378\n",
      "Total training time: 0.00 seconds.\n",
      "-- Epoch 9\n",
      "Norm: 5.88, NNZs: 4, Bias: 5.200000, T: 12348, Avg. loss: 0.015085\n",
      "Total training time: 0.00 seconds.\n",
      "Convergence after 9 epochs took 0.00 seconds\n",
      "Final \n",
      "[[-4.28857497 -2.390381   -3.0160324  -1.1686672 ]]\n",
      "[5.2]\n",
      "0.9766763848396501\n"
     ]
    }
   ],
   "source": [
    "# Load evaluation data\n",
    "# Train on the evaluation data\n",
    "# print your accuracy and weights. Do not enter these values by hand.\n",
    "clf = Perceptron(shuffle=False, verbose=1, eta0=.1, max_iter=10)\n",
    "Data_Set = arff.loadarff('banknote.arff')\n",
    "Data_Set_df = pd.DataFrame(Data_Set[0])\n",
    "Data_Set_np = Data_Set_df.to_numpy()\n",
    "Data_Set_np = Data_Set_np.astype(float)\n",
    "X = Data_Set_np[:, :-1]\n",
    "y = Data_Set_np[:, -1]\n",
    "clf.fit(X, y)\n",
    "print(\"Final \")\n",
    "print(clf.coef_)\n",
    "print(clf.intercept_)\n",
    "print(clf.score(X, y))"
   ]
  },
  {
   "cell_type": "markdown",
   "metadata": {
    "id": "U-4J5VcS9umq"
   },
   "source": [
    "#### Discussion\n",
    "Open the box below and type in your discussion.  Note that after each exercise you will have a chance to discuss your effort and results. What was your final accuracy? What was your experience running on the banknote authentication dataset? "
   ]
  },
  {
   "cell_type": "markdown",
   "metadata": {},
   "source": [
    "** Your discussion goes here **\n",
    "My final weights were: [[-4.28857497 -2.390381   -3.0160324  -1.1686672 ]]\n",
    "The bias was: [5.2]\n",
    "My accuracy was: 0.9766763848396501\n",
    "These values don't change when I rerun the code, which makes sense since I am not changing whatever the Perceptron object initializes the wights to. I learned a little bit of how to read a .arff file, and even though I just copied the code from part 1.1, by reading trough the data it's interesting to see the different modules that we've imported interact to do something pretty complex. Something I notice about this data set is that it is NOT linearly seperable. The accuracy is 97%, which means a 3% occurance of outliers or bad data... or maybe real data that our algorithm is not complex enough to differentiate. I could maybe hardcode a workaround to increase accuracy, but that sounds like bad practice."
   ]
  },
  {
   "cell_type": "markdown",
   "metadata": {
    "id": "9vWiTdlbR2Xh"
   },
   "source": [
    "## 2. Classifying on linearly separable and non-linearly separable data\n",
    "\n",
    "### 2.1 (5%) Create 2 datasets\n",
    "\n",
    "- Both with 8 instances using 2 real valued inputs with 4 instances from each class. \n",
    "- One data set should be linearly separable and the other not.\n",
    "- Show or print your datasets"
   ]
  },
  {
   "cell_type": "code",
   "execution_count": 25,
   "metadata": {
    "id": "4SSoasDQSKXb"
   },
   "outputs": [
    {
     "name": "stdout",
     "output_type": "stream",
     "text": [
      "@relation myDataLinearlySeperable\n",
      "@attribute x1 real\n",
      "@attribute x2 real\n",
      "@attribute class {0,1}\n",
      "@data\n",
      "1, 1, 1\n",
      "2, 2, 1\n",
      "3, 3, 1\n",
      "4, 4, 1\n",
      "1, -1, 0\n",
      "2, -2, 0\n",
      "3, -3, 0\n",
      "4, -4, 0\n",
      "\n",
      "@relation myDataNonLinearlySeperable\n",
      "@attribute x1 real\n",
      "@attribute x2 real\n",
      "@attribute class {0,1}\n",
      "@data\n",
      "1, 1, 0\n",
      "2, 2, 1\n",
      "3, 3, 1\n",
      "4, 4, 0\n",
      "5, 5, 0\n",
      "6, 6, 1\n",
      "7, 7, 1\n",
      "8, 8, 0"
     ]
    }
   ],
   "source": [
    "# Create and show the 2 datasets. \n",
    "# You could do it here in Python or create arff files in your local folder with a text editor.  Either way show your dataset.\n",
    "# Linearly Seperable Data\n",
    "with open(\"mydatals.arff\", 'r') as infile1:\n",
    "    for line in infile1:\n",
    "        print(line, end=\"\")\n",
    "    print(\"\\n\")\n",
    "# Output:\n",
    "# 1, 1, 1\n",
    "# 2, 2, 1\n",
    "# 3, 3, 1\n",
    "# 4, 4, 1\n",
    "# 1, -1, 0\n",
    "# 2, -2, 0\n",
    "# 3, -3, 0\n",
    "# 4, -4, 0\n",
    "\n",
    "# Non-Linearly Seperable Data\n",
    "with open(\"mydatanls.arff\", 'r') as infile2:\n",
    "    for line in infile2:\n",
    "        print(line, end=\"\")\n",
    "# Output: \n",
    "# 1, 1, 0\n",
    "# 2, 2, 1\n",
    "# 3, 3, 1\n",
    "# 4, 4, 0\n",
    "# 5, 5, 0\n",
    "# 6, 6, 1\n",
    "# 7, 7, 1\n",
    "# 8, 8, 0"
   ]
  },
  {
   "cell_type": "markdown",
   "metadata": {
    "id": "SIRG42TgSR4x"
   },
   "source": [
    "### 2.2 (5%) Train on both sets using the scikit-learn perceptron model\n",
    "- Train on each and print the results. Train until convergence (i.e. use the default max_iter by simply not specifying it).\n",
    "- You may choose your other hyperparameters."
   ]
  },
  {
   "cell_type": "code",
   "execution_count": 11,
   "metadata": {
    "id": "KBGUn43ASiXW"
   },
   "outputs": [
    {
     "name": "stdout",
     "output_type": "stream",
     "text": [
      "-- Epoch 1\n",
      "Norm: 0.20, NNZs: 1, Bias: 0.000000, T: 8, Avg. loss: 0.012500\n",
      "Total training time: 0.00 seconds.\n",
      "-- Epoch 2\n",
      "Norm: 0.20, NNZs: 1, Bias: 0.000000, T: 16, Avg. loss: 0.000000\n",
      "Total training time: 0.00 seconds.\n",
      "-- Epoch 3\n",
      "Norm: 0.20, NNZs: 1, Bias: 0.000000, T: 24, Avg. loss: 0.000000\n",
      "Total training time: 0.00 seconds.\n",
      "-- Epoch 4\n",
      "Norm: 0.20, NNZs: 1, Bias: 0.000000, T: 32, Avg. loss: 0.000000\n",
      "Total training time: 0.00 seconds.\n",
      "-- Epoch 5\n",
      "Norm: 0.20, NNZs: 1, Bias: 0.000000, T: 40, Avg. loss: 0.000000\n",
      "Total training time: 0.00 seconds.\n",
      "-- Epoch 6\n",
      "Norm: 0.20, NNZs: 1, Bias: 0.000000, T: 48, Avg. loss: 0.000000\n",
      "Total training time: 0.00 seconds.\n",
      "-- Epoch 7\n",
      "Norm: 0.20, NNZs: 1, Bias: 0.000000, T: 56, Avg. loss: 0.000000\n",
      "Total training time: 0.00 seconds.\n",
      "Convergence after 7 epochs took 0.00 seconds\n",
      "[[0.  0.2]]\n",
      "[0.]\n",
      "1.0\n",
      "-- Epoch 1\n",
      "Norm: 0.71, NNZs: 2, Bias: -0.100000, T: 8, Avg. loss: 1.225000\n",
      "Total training time: 0.00 seconds.\n",
      "-- Epoch 2\n",
      "Norm: 0.85, NNZs: 2, Bias: 0.000000, T: 16, Avg. loss: 1.512500\n",
      "Total training time: 0.00 seconds.\n",
      "-- Epoch 3\n",
      "Norm: 0.42, NNZs: 2, Bias: 0.200000, T: 24, Avg. loss: 1.750000\n",
      "Total training time: 0.00 seconds.\n",
      "-- Epoch 4\n",
      "Norm: 0.57, NNZs: 2, Bias: 0.300000, T: 32, Avg. loss: 1.525000\n",
      "Total training time: 0.00 seconds.\n",
      "-- Epoch 5\n",
      "Norm: 0.71, NNZs: 2, Bias: 0.400000, T: 40, Avg. loss: 1.487500\n",
      "Total training time: 0.00 seconds.\n",
      "-- Epoch 6\n",
      "Norm: 0.85, NNZs: 2, Bias: 0.500000, T: 48, Avg. loss: 1.450000\n",
      "Total training time: 0.00 seconds.\n",
      "Convergence after 6 epochs took 0.00 seconds\n",
      "[[-0.6 -0.6]]\n",
      "[0.5]\n",
      "0.5\n"
     ]
    }
   ],
   "source": [
    "# Train and print results with both datasets \n",
    "clf = Perceptron(shuffle=False, verbose=1, eta0=.1)\n",
    "Data_Set = arff.loadarff('mydatals.arff')\n",
    "Data_Set_df = pd.DataFrame(Data_Set[0])\n",
    "Data_Set_np = Data_Set_df.to_numpy()\n",
    "Data_Set_np = Data_Set_np.astype(float)\n",
    "X = Data_Set_np[:, :-1]\n",
    "y = Data_Set_np[:, -1]\n",
    "clf.fit(X, y)\n",
    "print(clf.coef_)\n",
    "print(clf.intercept_)\n",
    "print(clf.score(X, y))\n",
    "\n",
    "clf = Perceptron(shuffle=False, verbose=1, eta0=.1)\n",
    "Data_Set = arff.loadarff('mydatanls.arff')\n",
    "Data_Set_df = pd.DataFrame(Data_Set[0])\n",
    "Data_Set_np = Data_Set_df.to_numpy()\n",
    "Data_Set_np = Data_Set_np.astype(float)\n",
    "X = Data_Set_np[:, :-1]\n",
    "y = Data_Set_np[:, -1]\n",
    "clf.fit(X, y)\n",
    "print(clf.coef_)\n",
    "print(clf.intercept_)\n",
    "print(clf.score(X, y))"
   ]
  },
  {
   "cell_type": "markdown",
   "metadata": {
    "id": "890A39KX9zLC"
   },
   "source": [
    "#### Discussion\n",
    "What is different about the two runs? What makes one dataset not linearly separable? What is the result of the training? What is the accuracy of the two models?"
   ]
  },
  {
   "cell_type": "markdown",
   "metadata": {},
   "source": [
    "** Your discussion goes here **\n",
    "There are several differences between these two runs.\n",
    "In one run, bias changes every epoch (probably as a result of consistently innacurate fires)\n",
    "In one run, the Avg. loss decreases from E1 to E1, but in the other Avg. loss hovers around 1.5. \n",
    "In one run, the algorithm learns to ignore one of the inputs and weights it as 0.\n",
    "The most drastic difference between these two runs is that the accuracy of one is one half of the other.\n",
    "\n",
    "The results of training is printed by the code! Both converge, but the accuracy of one is 100% while the other is 50%\n",
    "\n",
    "What makes the data non-linearly or linearly seperable, is that in my first data set, you can easily draw a line at y=0 to seperate the data. (assumming that we graph the data on a 2-d plane with x1 on the x axis and x2 on the y axis) If x2 is negative (if y is negative) the perceptron learned to not fire. The problem with my other data is that all points live on the identity line. ((1,1), (2,2),... etc.) but have seemingly random expected outputs. Whatever line the algorithm draws, about half of the points would be above and half of the points would be below."
   ]
  },
  {
   "cell_type": "markdown",
   "metadata": {
    "id": "v19fpixqTe-7"
   },
   "source": [
    "### 2.3 (10%) Graph the datasets and their corresponding decision line\n",
    " \n",
    " - Graph each dataset\n",
    " - Use your trained perceptrons above to determine each dataset's decision line\n",
    "    - We discssed how to find the slope and intercept in class and the equation is in the Perceptron slides\n",
    " - For all graphs always label the axes!\n",
    " - Following are examples of what graphs could look like\n",
    " \n",
    "![Linearly Separable Data](https://raw.githubusercontent.com/rmorain/CS472-1/master/images/perceptron/linearly_separable.png)\n",
    "\n",
    "![Not Linearly Separable](https://raw.githubusercontent.com/rmorain/CS472-1/master/images/perceptron/not_linearly_separable.png)"
   ]
  },
  {
   "cell_type": "code",
   "execution_count": 39,
   "metadata": {
    "colab": {
     "base_uri": "https://localhost:8080/",
     "height": 312
    },
    "id": "8l64tZUqCEwy",
    "outputId": "d111d17a-4813-4e52-c0df-3790ebe6f7b6"
   },
   "outputs": [
    {
     "data": {
      "image/png": "[encoded data removed]",
      "text/plain": [
       "<Figure size 640x480 with 1 Axes>"
      ]
     },
     "metadata": {},
     "output_type": "display_data"
    }
   ],
   "source": [
    "# Sample Graph code, You can use any graphing approach you want including this one.\n",
    "# We encourage you to use matplotlib.\n",
    "import matplotlib.pyplot as plt\n",
    "\n",
    "# Create data and labels\n",
    "data = np.array([[1, 1], [2, 2], [3, 3], [4, 4], [1, -1], [2, -2], [3, -3], [4, -4]])\n",
    "labels = np.array([1,1,1,1,0,0,0,0])\n",
    "\n",
    "# Create a scatter plot of data\n",
    "plt.xlim(-1,10)\n",
    "plt.ylim(-5,5)\n",
    "scatter = plt.scatter(data[:,0], data[:,1], c = labels, s=200, cmap='seismic')\n",
    "legend = plt.legend(*scatter.legend_elements(num=1), title=\"Class\", loc='upper right')\n",
    "\n",
    "# Plot the learned separator. Calculate the correct slope and intercept using your learned weights and bias.\n",
    "# learned weights [0., 0.2] & bias [0.]\n",
    "xlist = np.linspace(-1.0, 10, 100) # create 100 evenly spaced points on the domain\n",
    "ylist = np.linspace(-5, 5, 10) # create 100 evenly spaced points on the range\n",
    "slope = 0.2\n",
    "intercept = 0\n",
    "eq = slope*xlist + intercept\n",
    "plt.plot(xlist,  eq, '-k', )\n",
    "plt.title('Linearly Separable Data Example')\n",
    "plt.xlabel('x1')\n",
    "plt.ylabel('x2')\n",
    "plt.grid() # add grid lines\n",
    "plt.show() # show the plotQ"
   ]
  },
  {
   "cell_type": "code",
   "execution_count": 43,
   "metadata": {
    "id": "ZCPFUAGTS2sX"
   },
   "outputs": [
    {
     "data": {
      "image/png": "[encoded data removed]",
      "text/plain": [
       "<Figure size 640x480 with 1 Axes>"
      ]
     },
     "metadata": {},
     "output_type": "display_data"
    }
   ],
   "source": [
    "# Graph datasets and decision lines for both cases.\n",
    "# Sample Graph code, You can use any graphing approach you want including this one.\n",
    "# We encourage you to use matplotlib.\n",
    "\n",
    "\n",
    "data2 = np.array([[1,1],[2,2],[3,3],[4,4],[5,5],[6,6],[7,7],[8,8]])\n",
    "labels2 = np.array([0,1,1,0,0,1,1,0])\n",
    "\n",
    "# Create a scatter plot of data\n",
    "plt.xlim(-1,10)\n",
    "plt.ylim(-1,10)\n",
    "scatter2 = plt.scatter(data2[:,0], data2[:,1], c = labels2, s=200, cmap='seismic')\n",
    "legend2 = plt.legend(*scatter.legend_elements(num=1), title=\"Class\", loc='upper right')\n",
    "\n",
    "\n",
    "# Plot the learned separator. Calculate the correct slope and intercept using your learned weights and bias.\n",
    "xlist = np.linspace(-1.0, 10, 10) # create 100 evenly spaced points between -1 and 1 for the x axis\n",
    "ylist = np.linspace(-5, 5, 10) # create 100 evenly spaced points between -1 and 1 for the y axis\n",
    "slope = -1\n",
    "intercept = .83\n",
    "eq = slope*xlist + intercept\n",
    "plt.plot(xlist,  eq, '-k', )\n",
    "plt.title('Non Linearly Separable Data Example')\n",
    "plt.xlabel('x1')\n",
    "plt.ylabel('x2')\n",
    "plt.grid() # add grid lines\n",
    "plt.show() # show the plotQ"
   ]
  },
  {
   "cell_type": "markdown",
   "metadata": {
    "id": "M7dyHR0c92zd"
   },
   "source": [
    "#### Discussion\n",
    "What makes a dataset not linearly separable? How is the decision line determined? slope? y-intercept?"
   ]
  },
  {
   "cell_type": "markdown",
   "metadata": {},
   "source": [
    "** Your discussion goes here **\n",
    "If there are data points classified as one type of data surrounding another data point classified as another type of data, then the data set as a whole should be considered non-linearly separable because you cannot extricate the odd data point from the other data points. My second graph shows this because the data points all lie on the same line. My algorithm finds a line that lies below the entire data set because that is the highest accuracy we would be able to get.\n",
    "The decision line is determined by the weight vectors and \n"
   ]
  },
  {
   "cell_type": "markdown",
   "metadata": {
    "id": "_N5RXV8AzdRF"
   },
   "source": [
    "### 2.4 (5%) Discussion - In general, why will perceptrons not get perfect accuracy on non-linearly separable data"
   ]
  },
  {
   "cell_type": "markdown",
   "metadata": {
    "id": "0hSjHuLdzdRF"
   },
   "source": [
    "** Your discussion goes here **\n",
    "Because non-linearly seperable data cannot be sorted by an algorithm that linearly separates data.\n",
    "\n",
    "The perceptron algorithm linearly separates data given the data, and weights. If data is not linearly separable, the perceptron algorithm cannot separate that data because for the same weights, and similar data, the algorithm will classify both data points as the same type, regardless of accuracy.\n",
    "\n",
    "The most general answer to this question is because the perceptron algorithm is like a light switch. Given some input, it will either turn the light on, or turn the light off. A perceptron can only say \"yes\" or \"no\", \"go\" or \"don't go\" which limits the flexibility of the algorithm as a whole.\n"
   ]
  },
  {
   "cell_type": "markdown",
   "metadata": {
    "id": "0ySvhd1lUGSe"
   },
   "source": [
    "## 3. Use the perceptron to learn this version of the [voting data set](https://raw.githubusercontent.com/cs472ta/CS472/master/datasets/voting-dataset.arff)\n",
    "\n",
    "This particular task is an edited version of the standard voting set, where we have replaced all the “don’t know” values with the most common value for the particular attribute. Look at the [tutorial](https://github.com/cs472ta/CS472/blob/master/Tutorial.ipynb) from the Labs Content page to see examples of prepping the voting data set for sklearn.\n",
    "\n",
    "### 3.1 (10%) Average final training and test set accuracy over multiple trials\n",
    "\n",
    "- Learn the voting data five times with different random 70/30 Training/Test splits each time\n",
    "- Use a learning rate of 1.  The other hyperparameters are up to you.\n",
    "- Report the 5 trials and the average training and test accuracy and number of epochs to converge across the 5 trials in a table \n",
    "    - Below is an example of what a 2 trial table might look like\n",
    "\n",
    "| Trial | Training Accuracy | Test accuracy | Number of epochs |\n",
    "| --- | --- | --- | --- |\n",
    "| 1 | .950 | .550 | 4 |\n",
    "| 2 | .850 | .450 | 6 |\n",
    "| Average | .900 | .500 | 5 | \n",
    "\n",
    "*- As a rough sanity check, typical Perceptron test accuracies for the voting data set are 90%-98%.*\n"
   ]
  },
  {
   "cell_type": "code",
   "execution_count": null,
   "metadata": {
    "id": "Romyl4G8Trki"
   },
   "outputs": [],
   "source": [
    "# Run the perceptron 5 times on the voting data set with different splits and record the results.\n",
    "# Hint: look up scikit-learn train_test_split\n",
    "# Create the table using the tool of your choice"
   ]
  },
  {
   "cell_type": "markdown",
   "metadata": {
    "id": "cm4rbWkzVeoR"
   },
   "source": [
    "### 3.2 (10%) Interpreting the Model\n",
    "- Learn with the perceptron once on the full voting data set\n",
    "- Look at the learned weights and bias and do your best to explain what the model has learned and how the individual input features affect the result. \n",
    "- Which specific features are most critical for the voting task, and which are least critical? "
   ]
  },
  {
   "cell_type": "code",
   "execution_count": null,
   "metadata": {},
   "outputs": [],
   "source": [
    "#Learn once on the full voting data set.  If you Look at our tutorial at the beginning "
   ]
  },
  {
   "cell_type": "markdown",
   "metadata": {},
   "source": [
    "### Discussion\n",
    "How do the different features in the dataset effect prediction? How could you determine this? "
   ]
  },
  {
   "cell_type": "markdown",
   "metadata": {},
   "source": [
    "** Your discussion goes here **"
   ]
  },
  {
   "cell_type": "markdown",
   "metadata": {
    "id": "NyUmJ4yWVsQ7"
   },
   "source": [
    "### 3.3 (15%) Misclassification rate vs epochs \n",
    "\n",
    "Learn with the perceptron once on the full voting data set and graph the misclassification rate (number_misclassified  /  number_of_total_data_points) at each epoch until convergence (0th – final epoch).  Hints:\n",
    "- For the 0th epoch (i.e. initial weights), assume the initial misclassification rate is 50% and let that be the first point on your graph. Since there are 2 output classes, random guessing would only get it right about 1/2 of the time. Missclassifcation rate is 1 - accuracy.\n",
    "- Doing clf.fit with max_iter = 1, and warm_start=True will let you loop through epochs one at a time, allowing you to look at accuracy, etc. after each epoch.  But how do you know how many epochs to run until convergence?  One way is to just to first run it until convergence with random_state = c to see how many epochs it took (n_iter_).  Then run it again one epoch at a time n_iter_ times using the same random_state constant c (so that you get the exact same conditions).\n",
    "- Below is a rough example of what this type of graph might look like (though this graph is for avg rate across multiple trials)\n",
    "\n",
    "![Average Misclassification Rate](https://raw.githubusercontent.com/rmorain/CS472-1/master/images/perceptron/avg_misclassification_rate_vs_epochs.png)"
   ]
  },
  {
   "cell_type": "code",
   "execution_count": 14,
   "metadata": {
    "id": "2_ZRPWWVVeFM"
   },
   "outputs": [],
   "source": [
    "# Learn once on the full voting data set, while gathering info after every epoch\n",
    "# Then Graph it here.  Here is some sample graph code, but you can do it your own way, including using a bar graph, etc.\n",
    "    \n",
    "def plot_misclassification(misclassification_rate):\n",
    "    \"\"\"\n",
    "        Plots the misclassification rate\n",
    "    Args:\n",
    "        misclassification_rate (array-like): A 1D array or list of missclassifcation rate at every epoch\n",
    "    \"\"\"\n",
    "    plt.plot(np.arange(len(misclassification_rate)), misclassification_rate)\n",
    "    plt.title(\"Misclassification Rate vs. Epoch\")\n",
    "    plt.xlabel(\"Epoch\")\n",
    "    plt.ylabel(\"Misclassification Rate\")\n",
    "    plt.show()"
   ]
  },
  {
   "cell_type": "markdown",
   "metadata": {
    "id": "PgqUrgh--GeU"
   },
   "source": [
    "#### Discussion\n",
    "Discuss the results in your graph. How quickly does the perceptron converge? Do you think this is typical? Are there any anomalies or anything you didn't expect?"
   ]
  },
  {
   "cell_type": "markdown",
   "metadata": {},
   "source": [
    "** Your discussion goes here **"
   ]
  },
  {
   "cell_type": "markdown",
   "metadata": {},
   "source": [
    "### 3.4 (15%) Hyperparameters\n",
    "Read over all the Hyperparameters and their defaults in the scikit [perceptron documentation](https://scikit-learn.org/stable/modules/generated/sklearn.linear_model.Perceptron.html). With the voting data set, experiment briefly with EACH of the following 6 hyperparameters and discuss your findings.\n",
    "- shuffle\n",
    "- eta0 - learning rate\n",
    "- verbose\n",
    "- fit_intercept - whether to use a bias weight or not\n",
    "- random state\n",
    "- warm start"
   ]
  },
  {
   "cell_type": "code",
   "execution_count": null,
   "metadata": {},
   "outputs": [],
   "source": [
    "# Run the model with different hyperparameters"
   ]
  },
  {
   "cell_type": "markdown",
   "metadata": {},
   "source": [
    "#### Discussion\n",
    "Discuss your findings from the experimentation with the hyperparameters."
   ]
  },
  {
   "cell_type": "markdown",
   "metadata": {},
   "source": [
    "** Your discussion goes here **"
   ]
  },
  {
   "cell_type": "markdown",
   "metadata": {
    "id": "mxssT08TzdRH"
   },
   "source": [
    "## 4. (10%) Use the perceptron to learn one other data set of your choice.  \n",
    "- The UC Irvine Data Repository is one great source, but you may get your data set from wherever you like, though it should be a real world task.\n",
    "- Report your results"
   ]
  },
  {
   "cell_type": "code",
   "execution_count": 11,
   "metadata": {
    "id": "hqPZLMf1zdRH"
   },
   "outputs": [],
   "source": [
    "# Load and Train on your dataset and report results"
   ]
  },
  {
   "cell_type": "markdown",
   "metadata": {
    "id": "BqSFAXwlk3Ms"
   },
   "source": [
    "#### Discussion\n",
    "Discuss how the perceptron did on the data set and why you think it performed as such."
   ]
  },
  {
   "cell_type": "markdown",
   "metadata": {},
   "source": [
    "** Your discussion goes here **"
   ]
  },
  {
   "cell_type": "markdown",
   "metadata": {
    "id": "cTlK-kijk8Mg"
   },
   "source": [
    "## 5. (5%) Code up your own perceptron learner \n",
    "\n",
    "Actually coding a model leads to better understanding of what is really happening \"under the hood.\"  Below is a scaffold you could use if you want. Requirements for this task:\n",
    "- Your perceptron should support the methods shown in the example scaffold below.\n",
    "- Your output node should output 1 if net is > 0, else 0.\n",
    "- Use Stochastic/On-line training updates: Iterate and update weights after each training instance (i.e. not batch updates)\n",
    "- Implement a stopping criteria: when your model has trained for a number of epochs with no improvement in accuracy, stop training. Note that the weights/accuracy do not usually change monotonically.\n",
    "- Your class can inherit from the relevant scikit-learn learners (e.g. data shuffling, etc.), but don't call any of the super methods to accomplish the core methods in the scaffold.\n",
    "- Run the evaluation data set and the voting data set above with your Perceptron version. Show and discuss your results and how they compare with the scikit-learn version."
   ]
  },
  {
   "cell_type": "code",
   "execution_count": 12,
   "metadata": {
    "id": "5iY77P7gk1Nh"
   },
   "outputs": [],
   "source": [
    "# Your Perceptron Code"
   ]
  },
  {
   "cell_type": "markdown",
   "metadata": {
    "id": "CCMC9aHQ-IGL"
   },
   "source": [
    "*Discussion*"
   ]
  },
  {
   "cell_type": "code",
   "execution_count": null,
   "metadata": {},
   "outputs": [],
   "source": [
    "# Optional scaffold for Perceptron code.  IF you use this feel free to change/add any methods you want.\n",
    "\n",
    "from sklearn.base import BaseEstimator, ClassifierMixin\n",
    "class PerceptronClassifier(BaseEstimator,ClassifierMixin):\n",
    "\n",
    "    def __init__(self, lr=.1, shuffle=True):\n",
    "        \"\"\" \n",
    "            Initialize class with chosen hyperparameters.\n",
    "        Args:\n",
    "            lr (float): A learning rate / step size.\n",
    "            shuffle: Whether to shuffle the training data each epoch. DO NOT \n",
    "            SHUFFLE for evaluation / debug datasets.\n",
    "        \"\"\"\n",
    "        self.lr = lr\n",
    "        self.shuffle = shuffle\n",
    "\n",
    "    def fit(self, X, y, initial_weights=None):\n",
    "        \"\"\" \n",
    "            Fit the data; run the algorithm and adjust the weights to find a \n",
    "            good solution\n",
    "        Args:\n",
    "            X (array-like): A 2D numpy array with the training data, excluding\n",
    "            targets\n",
    "            y (array-like): A 2D numpy array with the training targets\n",
    "            initial_weights (array-like): allows the user to provide initial \n",
    "            weights\n",
    "        Returns:\n",
    "            self: this allows this to be chained, e.g. model.fit(X,y).predict(X_test)\n",
    "        \"\"\"\n",
    "        self.weights = self.initialize_weights() if not initial_weights else initial_weights\n",
    "\n",
    "        return self\n",
    "\n",
    "    def predict(self, X):\n",
    "        \"\"\" \n",
    "            Predict all classes for a dataset X\n",
    "        Args:\n",
    "            X (array-like): A 2D numpy array with the training data, excluding \n",
    "            targets\n",
    "        Returns:\n",
    "            array, shape (n_samples,)\n",
    "                Predicted target values per element in X.\n",
    "        \"\"\"\n",
    "        pass\n",
    "\n",
    "    def initialize_weights(self):\n",
    "        \"\"\" Initialize weights for perceptron. Don't forget the bias!\n",
    "        Returns:\n",
    "        \"\"\"\n",
    "\n",
    "        return [0]\n",
    "\n",
    "    def score(self, X, y):\n",
    "        \"\"\" \n",
    "            Return accuracy of model on a given dataset. Must implement own \n",
    "            score function.\n",
    "        Args:\n",
    "            X (array-like): A 2D numpy array with data, excluding targets\n",
    "            y (array-like): A 2D numpy array with targets\n",
    "        Returns:\n",
    "            score : float\n",
    "                Mean accuracy of self.predict(X) wrt. y.\n",
    "        \"\"\"\n",
    "\n",
    "        return 0\n",
    "\n",
    "    ### Returns the weights and bias. Not required but great for debugging.\n",
    "    def get_weights(self):\n",
    "        pass"
   ]
  }
 ],
 "metadata": {
  "colab": {
   "collapsed_sections": [],
   "provenance": []
  },
  "kernelspec": {
   "display_name": "sklearn-env",
   "language": "python",
   "name": "python3"
  },
  "language_info": {
   "codemirror_mode": {
    "name": "ipython",
    "version": 3
   },
   "file_extension": ".py",
   "mimetype": "text/x-python",
   "name": "python",
   "nbconvert_exporter": "python",
   "pygments_lexer": "ipython3",
   "version": "3.11.9"
  }
 },
 "nbformat": 4,
 "nbformat_minor": 0
}
