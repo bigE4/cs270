{
 "cells": [
  {
   "cell_type": "markdown",
   "metadata": {
    "id": "DVL7_bgmIAPR"
   },
   "source": [
    "# K-Nearest Neighbor Lab\n",
    "Read over the sklearn info on [nearest neighbor learners](https://scikit-learn.org/stable/modules/neighbors.html#nearest-neighbors-classification)\n",
    "\n",
    "\n"
   ]
  },
  {
   "cell_type": "code",
   "execution_count": 207,
   "metadata": {
    "id": "6ZbYjZZZ_yLV"
   },
   "outputs": [],
   "source": [
    "from sklearn.neighbors import KNeighborsClassifier, KNeighborsRegressor\n",
    "import numpy as np\n",
    "import pandas as pd\n",
    "from scipy.io import arff\n",
    "import matplotlib.pyplot as plt\n",
    "from sklearn.model_selection import train_test_split\n",
    "from sklearn.metrics import accuracy_score, classification_report\n",
    "from sklearn.preprocessing import LabelEncoder\n",
    "from sklearn.preprocessing import MinMaxScaler\n",
    "from sklearn.metrics import mean_absolute_error, r2_score\n"
   ]
  },
  {
   "cell_type": "markdown",
   "metadata": {},
   "source": [
    "## 1 K-Nearest Neighbor (KNN) algorithm\n",
    "\n",
    "### 1.1 (15%) Basic KNN Classification\n",
    "\n",
    "Learn the [Glass data set](https://archive.ics.uci.edu/dataset/42/glass+identification) using [KNeighborsClassifier](https://scikit-learn.org/stable/modules/generated/sklearn.neighbors.KNeighborsClassifier.html#sklearn.neighbors.KNeighborsClassifier) with default parameters.\n",
    "- Randomly split your data into train/test.  Anytime we don't tell you specifics (such as what percentage is train vs test) choose your own reasonable values\n",
    "- Give typical train and test set accuracies after running with different random splits\n",
    "- Print the output probabilities for a test set (predict_proba)\n",
    "- Try it with different p values (Minkowskian exponent) and discuss any differences"
   ]
  },
  {
   "cell_type": "code",
   "execution_count": null,
   "metadata": {},
   "outputs": [
    {
     "name": "stdout",
     "output_type": "stream",
     "text": [
      "[1 2 3 5 6 7]\n",
      "Training Accuracy: 0.994\n",
      "Testing Accuracy: 0.981\n",
      "Output Probabilities for a test set: [[0.  0.  0.  0.  0.  1. ]\n",
      " [0.  0.  0.  0.2 0.8 0. ]\n",
      " [1.  0.  0.  0.  0.  0. ]\n",
      " [0.  0.  1.  0.  0.  0. ]\n",
      " [0.  1.  0.  0.  0.  0. ]\n",
      " [1.  0.  0.  0.  0.  0. ]\n",
      " [1.  0.  0.  0.  0.  0. ]\n",
      " [0.  0.8 0.2 0.  0.  0. ]\n",
      " [0.  0.  0.  1.  0.  0. ]\n",
      " [0.  1.  0.  0.  0.  0. ]\n",
      " [0.  1.  0.  0.  0.  0. ]\n",
      " [0.4 0.6 0.  0.  0.  0. ]\n",
      " [0.  1.  0.  0.  0.  0. ]\n",
      " [0.  0.  1.  0.  0.  0. ]\n",
      " [1.  0.  0.  0.  0.  0. ]\n",
      " [0.  1.  0.  0.  0.  0. ]\n",
      " [0.  1.  0.  0.  0.  0. ]\n",
      " [0.  0.2 0.8 0.  0.  0. ]\n",
      " [1.  0.  0.  0.  0.  0. ]\n",
      " [1.  0.  0.  0.  0.  0. ]\n",
      " [0.  1.  0.  0.  0.  0. ]\n",
      " [0.  0.  0.  0.  0.  1. ]\n",
      " [0.  1.  0.  0.  0.  0. ]\n",
      " [0.  0.  0.  0.  0.  1. ]\n",
      " [1.  0.  0.  0.  0.  0. ]\n",
      " [1.  0.  0.  0.  0.  0. ]\n",
      " [1.  0.  0.  0.  0.  0. ]\n",
      " [0.  1.  0.  0.  0.  0. ]\n",
      " [0.  1.  0.  0.  0.  0. ]\n",
      " [0.  1.  0.  0.  0.  0. ]\n",
      " [0.  0.  0.  0.4 0.6 0. ]\n",
      " [0.  1.  0.  0.  0.  0. ]\n",
      " [0.  1.  0.  0.  0.  0. ]\n",
      " [0.  0.  0.  1.  0.  0. ]\n",
      " [1.  0.  0.  0.  0.  0. ]\n",
      " [0.  1.  0.  0.  0.  0. ]\n",
      " [0.  1.  0.  0.  0.  0. ]\n",
      " [1.  0.  0.  0.  0.  0. ]\n",
      " [0.  0.  0.  0.8 0.2 0. ]\n",
      " [1.  0.  0.  0.  0.  0. ]\n",
      " [1.  0.  0.  0.  0.  0. ]\n",
      " [1.  0.  0.  0.  0.  0. ]\n",
      " [0.  1.  0.  0.  0.  0. ]\n",
      " [1.  0.  0.  0.  0.  0. ]\n",
      " [1.  0.  0.  0.  0.  0. ]\n",
      " [0.  1.  0.  0.  0.  0. ]\n",
      " [0.  1.  0.  0.  0.  0. ]\n",
      " [0.  0.  0.  0.  0.  1. ]\n",
      " [1.  0.  0.  0.  0.  0. ]\n",
      " [0.  0.  0.  0.  1.  0. ]\n",
      " [0.  1.  0.  0.  0.  0. ]\n",
      " [1.  0.  0.  0.  0.  0. ]\n",
      " [0.8 0.2 0.  0.  0.  0. ]\n",
      " [0.  0.4 0.6 0.  0.  0. ]]\n",
      "Test Accuracy for p=1: 0.981\n",
      "Test Accuracy for p=2: 0.981\n",
      "Test Accuracy for p=3: 0.981\n",
      "Test Accuracy for p=4: 0.981\n"
     ]
    }
   ],
   "source": [
    "# Learn the glass data\n",
    "\n",
    "# Read the glass data\n",
    "df = pd.read_csv(\"glass.data\", header=None)\n",
    "\n",
    "X = df.iloc[:, :-1]  \n",
    "y = df.iloc[:, -1]\n",
    "X_train, X_test, y_train, y_test = train_test_split(X, y, test_size=0.25)\n",
    "\n",
    "clf = KNeighborsClassifier()\n",
    "clf.fit(X_train, y_train)\n",
    "print(clf.classes_)\n",
    "\n",
    "yTrainPred = clf.predict(X_train)\n",
    "trainAcc = accuracy_score(y_train, yTrainPred)\n",
    "print(f\"Training Accuracy: {trainAcc:.3f}\")\n",
    "\n",
    "yTestPred = clf.predict(X_test)\n",
    "testAcc = accuracy_score(y_test, yTestPred)\n",
    "print(f\"Testing Accuracy: {testAcc:.3f}\")\n",
    "\n",
    "yTestProba = clf.predict_proba(X_test)\n",
    "print(f\"Output Probabilities for a test set: {yTestProba}\")\n",
    "\n",
    "p_values = [1, 2, 3, 4]\n",
    "for p in p_values:\n",
    "    clf = KNeighborsClassifier(n_neighbors=5, p=p)\n",
    "    clf.fit(X_train, y_train)\n",
    "    \n",
    "    testAcc = accuracy_score(y_test, clf.predict(X_test))\n",
    "    print(f\"Test Accuracy for p={p}: {testAcc:.3f}\")\n"
   ]
  },
  {
   "cell_type": "markdown",
   "metadata": {},
   "source": [
    "#### Discussion\n",
    "What were your accuracies or output probabilities and how did different hyperparameter values affect the outcome? Discuss the differences you see."
   ]
  },
  {
   "cell_type": "markdown",
   "metadata": {},
   "source": [
    "Training accuracy was very high, and very close to one, indicating that we fit the data well.\n",
    "\n",
    "Testing accuracy was also very high, but not significantly lower that the training accuracy, indicating that we did not overfit the data, which I'm not 100% sure is even possible with knn.\n",
    "\n",
    "All of the p values result in similar probabilities. If anything, p=1 results in a slightly higher probability on average, but nothing too crazy different. This indicates that maybe the test data doesn't really care too much about the distance of the points."
   ]
  },
  {
   "cell_type": "markdown",
   "metadata": {
    "id": "9vWiTdlbR2Xh"
   },
   "source": [
    "## 2 KNN Classification with normalization and distance weighting\n",
    "\n",
    "Use the [magic telescope](https://axon.cs.byu.edu/data/uci_class/MagicTelescope.arff) dataset\n",
    "\n",
    "### 2.1 (5%) - Without Normalization or Distance Weighting\n",
    "- Do random 80/20 train/test splits each time\n",
    "- Run with k=3 and *without* distance weighting and *without* normalization\n",
    "- Show train and test set accuracy"
   ]
  },
  {
   "cell_type": "code",
   "execution_count": 164,
   "metadata": {
    "id": "4SSoasDQSKXb"
   },
   "outputs": [
    {
     "name": "stdout",
     "output_type": "stream",
     "text": [
      "[0 1]\n",
      "Training Accuracy: 0.886\n",
      "Testing Accuracy: 0.795\n"
     ]
    }
   ],
   "source": [
    "# Learn magic telescope data\n",
    "\n",
    "# Load the data\n",
    "data, meta = arff.loadarff(\"telescope.arff\")\n",
    "df = pd.DataFrame(data)\n",
    "\n",
    "# Separate features from targets\n",
    "X = df.iloc[:, :-1]\n",
    "y = df.iloc[:, -1]\n",
    "\n",
    "# Encode targets since g and h aren't numerical\n",
    "label_encoder = LabelEncoder()\n",
    "y_encoded = label_encoder.fit_transform(y)\n",
    "\n",
    "# Split the data\n",
    "X_train, X_test, y_train, y_test = train_test_split(X, y_encoded, test_size=0.2)\n",
    "\n",
    "# Initialize the learner and fit it with the data\n",
    "clf = KNeighborsClassifier(n_neighbors=3, weights='uniform')\n",
    "clf.fit(X_train, y_train)\n",
    "print(clf.classes_)\n",
    "\n",
    "# Get the training accuracy\n",
    "yTrainPred = clf.predict(X_train)\n",
    "trainAcc = accuracy_score(y_train, yTrainPred)\n",
    "print(f\"Training Accuracy: {trainAcc:.3f}\")\n",
    "\n",
    "# Get the testing accuracy\n",
    "yTestPred = clf.predict(X_test)\n",
    "testAcc = accuracy_score(y_test, yTestPred)\n",
    "print(f\"Testing Accuracy: {testAcc:.3f}\")"
   ]
  },
  {
   "cell_type": "markdown",
   "metadata": {},
   "source": [
    "#### Discussion\n",
    "What did you observe in your results?"
   ]
  },
  {
   "cell_type": "markdown",
   "metadata": {},
   "source": [
    "It took noticeably longer to fit the data since the data is so long. Also, both the training and testing accuracy was much lower than the glass dataset. I thought this was interesting since the glass dataset had less classes to categorize into and less data than the telescope dataset. It looks like this data doesn’t generalize well with k=3 and uniform weighting."
   ]
  },
  {
   "cell_type": "markdown",
   "metadata": {},
   "source": [
    "### 2.2 (10%) With Normalization\n",
    "- Try it with k=3 without distance weighting but *with* normalization of input features.  You may use any reasonable normalization approach (e.g. standard min-max normalization between 0-1, z-transform, etc.)"
   ]
  },
  {
   "cell_type": "code",
   "execution_count": 171,
   "metadata": {},
   "outputs": [
    {
     "name": "stdout",
     "output_type": "stream",
     "text": [
      "[0 1]\n",
      "Training Accuracy: 0.901\n",
      "Testing Accuracy: 0.829\n"
     ]
    }
   ],
   "source": [
    "# Train/Predict with normalization\n",
    "\n",
    "# Load the data\n",
    "data, meta = arff.loadarff(\"telescope.arff\")\n",
    "df = pd.DataFrame(data)\n",
    "\n",
    "# Separate features from targets\n",
    "X = df.iloc[:, :-1]\n",
    "y = df.iloc[:, -1]\n",
    "\n",
    "# Normalize features\n",
    "scaler = MinMaxScaler()\n",
    "X_normalized = scaler.fit_transform(X)\n",
    "\n",
    "# Encode targets since g and h aren't numerical\n",
    "label_encoder = LabelEncoder()\n",
    "y_encoded = label_encoder.fit_transform(y)\n",
    "\n",
    "# Split the data\n",
    "X_train, X_test, y_train, y_test = train_test_split(X_normalized, y_encoded, test_size=0.2)\n",
    "\n",
    "# Initialize the learner and fit it with the data\n",
    "clf = KNeighborsClassifier(n_neighbors=3, weights='uniform')\n",
    "clf.fit(X_train, y_train)\n",
    "print(clf.classes_)\n",
    "\n",
    "# Get the training accuracy\n",
    "yTrainPred = clf.predict(X_train)\n",
    "trainAcc = accuracy_score(y_train, yTrainPred)\n",
    "print(f\"Training Accuracy: {trainAcc:.3f}\")\n",
    "\n",
    "# Get the testing accuracy\n",
    "yTestPred = clf.predict(X_test)\n",
    "testAcc = accuracy_score(y_test, yTestPred)\n",
    "print(f\"Testing Accuracy: {testAcc:.3f}\")"
   ]
  },
  {
   "cell_type": "markdown",
   "metadata": {},
   "source": [
    "#### Discussion\n",
    "Discuss the results of using normalized data vs. unnormalized data"
   ]
  },
  {
   "cell_type": "markdown",
   "metadata": {},
   "source": [
    "Normalizing the data seems to increase the accuracy of both the testing set and training set by about 3%. This is significant!!"
   ]
  },
  {
   "cell_type": "markdown",
   "metadata": {},
   "source": [
    "### 2.3 (10%) With Distance Weighting\n",
    "- Try it with k=3 and with distance weighting *and* normalization"
   ]
  },
  {
   "cell_type": "code",
   "execution_count": 185,
   "metadata": {},
   "outputs": [
    {
     "name": "stdout",
     "output_type": "stream",
     "text": [
      "[0 1]\n",
      "Training Accuracy: 1.000\n",
      "Testing Accuracy: 0.833\n"
     ]
    }
   ],
   "source": [
    "#Train/Precdict with normalization and distance weighting\n",
    "\n",
    "# Load the data\n",
    "data, meta = arff.loadarff(\"telescope.arff\")\n",
    "df = pd.DataFrame(data)\n",
    "\n",
    "# Separate features from targets\n",
    "X = df.iloc[:, :-1]\n",
    "y = df.iloc[:, -1]\n",
    "\n",
    "# Normalize features\n",
    "scaler = MinMaxScaler()\n",
    "X_normalized = scaler.fit_transform(X)\n",
    "\n",
    "# Encode targets since g and h aren't numerical\n",
    "label_encoder = LabelEncoder()\n",
    "y_encoded = label_encoder.fit_transform(y)\n",
    "\n",
    "# Split the data\n",
    "X_train, X_test, y_train, y_test = train_test_split(X_normalized, y_encoded, test_size=0.2)\n",
    "\n",
    "# Initialize the learner and fit it with the data\n",
    "clf = KNeighborsClassifier(n_neighbors=3, weights='distance')\n",
    "clf.fit(X_train, y_train)\n",
    "print(clf.classes_)\n",
    "\n",
    "# Get the training accuracy\n",
    "yTrainPred = clf.predict(X_train)\n",
    "trainAcc = accuracy_score(y_train, yTrainPred)\n",
    "print(f\"Training Accuracy: {trainAcc:.3f}\")\n",
    "\n",
    "# Get the testing accuracy\n",
    "yTestPred = clf.predict(X_test)\n",
    "testAcc = accuracy_score(y_test, yTestPred)\n",
    "print(f\"Testing Accuracy: {testAcc:.3f}\")"
   ]
  },
  {
   "cell_type": "markdown",
   "metadata": {},
   "source": [
    "#### Discussion\n",
    "Comparison and discuss the differences you see with distance weighting and normalization vs without."
   ]
  },
  {
   "cell_type": "markdown",
   "metadata": {},
   "source": [
    "After normalizing the data and then applying weight by distance, the learner perfectly learns every dataset. This is scary since it seems that the learner is essentially memorizing the data, and is able to predict it perfectly. However, the testing set accuracy remained about the same, which might constitute overfitting."
   ]
  },
  {
   "cell_type": "markdown",
   "metadata": {},
   "source": [
    "### 2.4 (10%) Different k Values\n",
    "- Using your normalized data with distance weighting, create one graph with classification accuracy on the test set on the y-axis and k values on the x-axis.\n",
    "- Use values of k from 1 to 15.  Use the same train/test split for each. "
   ]
  },
  {
   "cell_type": "code",
   "execution_count": null,
   "metadata": {},
   "outputs": [
    {
     "name": "stdout",
     "output_type": "stream",
     "text": [
      "k=1, testAcc=0.79837\n",
      "k=2, testAcc=0.79837\n",
      "k=3, testAcc=0.82387\n",
      "k=4, testAcc=0.82256\n",
      "k=5, testAcc=0.82860\n",
      "k=6, testAcc=0.82545\n",
      "k=7, testAcc=0.83491\n",
      "k=8, testAcc=0.83386\n",
      "k=9, testAcc=0.83754\n",
      "k=10, testAcc=0.83754\n",
      "k=11, testAcc=0.83964\n",
      "k=12, testAcc=0.83807\n",
      "k=13, testAcc=0.83517\n",
      "k=14, testAcc=0.83754\n",
      "k=15, testAcc=0.83728\n"
     ]
    },
    {
     "data": {
      "image/png": "[encoded data removed]",
      "text/plain": [
       "<Figure size 1000x600 with 1 Axes>"
      ]
     },
     "metadata": {},
     "output_type": "display_data"
    }
   ],
   "source": [
    "# Calculate and Graph classification accuracy vs k values\n",
    "\n",
    "# Load the data\n",
    "data, meta = arff.loadarff(\"telescope.arff\")\n",
    "df = pd.DataFrame(data)\n",
    "\n",
    "# Separate features from targets\n",
    "X = df.iloc[:, :-1]\n",
    "y = df.iloc[:, -1]\n",
    "\n",
    "# Normalize features\n",
    "scaler = MinMaxScaler()\n",
    "X_normalized = scaler.fit_transform(X)\n",
    "\n",
    "# Encode targets since g and h aren't numerical\n",
    "label_encoder = LabelEncoder()\n",
    "y_encoded = label_encoder.fit_transform(y)\n",
    "\n",
    "# Split the data\n",
    "X_train, X_test, y_train, y_test = train_test_split(X_normalized, y_encoded, test_size=0.2)\n",
    "\n",
    "# Create a list to store the graphable point (k, testAcc)\n",
    "points = []\n",
    "\n",
    "for i in range(1,16):\n",
    "    # Initialize the learner and fit it with the data\n",
    "    clf = KNeighborsClassifier(n_neighbors=i, weights='distance')\n",
    "    clf.fit(X_train, y_train)\n",
    "\n",
    "    # Get the training accuracy\n",
    "    yTrainPred = clf.predict(X_train)\n",
    "    trainAcc = accuracy_score(y_train, yTrainPred)\n",
    "\n",
    "    # Get the testing accuracy\n",
    "    yTestPred = clf.predict(X_test)\n",
    "    testAcc = accuracy_score(y_test, yTestPred)\n",
    "\n",
    "    points.append((i, testAcc))\n",
    "\n",
    "k_values = []\n",
    "test_Acc = []\n",
    "\n",
    "for point in points:\n",
    "    k, acc = point\n",
    "    k_values.append(k)\n",
    "    test_Acc.append(acc)\n",
    "    print(f\"k={k}, testAcc={acc:.5f}\")\n",
    "\n",
    "\n",
    "\n",
    "# Graph Acc\n",
    "plt.figure(figsize=(10, 6))\n",
    "plt.plot(k_values, test_Acc, color='tab:blue', label='Test Accuracy', marker='s')\n",
    "plt.xlabel('k (Number of Neighbors)')\n",
    "plt.ylabel('Test Accuracy', color='tab:blue')\n",
    "plt.title('Test Accuracy vs k')\n",
    "plt.grid(True)\n",
    "plt.legend()\n",
    "plt.tight_layout()\n",
    "plt.show()\n"
   ]
  },
  {
   "cell_type": "markdown",
   "metadata": {},
   "source": [
    "#### Discussion\n",
    "How do the k values affect your results?"
   ]
  },
  {
   "cell_type": "markdown",
   "metadata": {},
   "source": [
    "Very generally, higher k values increase accuracy. However, it seems that with even higher k values, the test set accuracy seems to regress. It seems like there is a sweet spot, but occasionally the most accurate k value will be pretty random."
   ]
  },
  {
   "cell_type": "markdown",
   "metadata": {
    "id": "SIRG42TgSR4x"
   },
   "source": [
    "## 3 KNN Regression with normalization and distance weighting\n",
    "\n",
    "Use the [sklean KNeighborsRegressor](https://scikit-learn.org/stable/modules/generated/sklearn.neighbors.KNeighborsRegressor.html#sklearn.neighbors.KNeighborsRegressor) on the [housing price prediction](https://axon.cs.byu.edu/data/uci_regression/housing.arff) problem.  \n",
    "### 3.1 (5%) Ethical Data\n",
    "Note this data set has an example of an inappropriate input feature which we discussed.  State which feature is inappropriate and discuss why."
   ]
  },
  {
   "cell_type": "markdown",
   "metadata": {},
   "source": [
    "#### Discussion\n",
    "Discuss the innapropriate feature. Which one and why?"
   ]
  },
  {
   "cell_type": "markdown",
   "metadata": {},
   "source": [
    "The B feature is entirely inappropriate. It is inappropriate because the quality of a home is absolutely not determined by the proportion of blacks in the area. If we fit this data, we could enforce historical bias into our model. The other features like location, proximity to the river, air quality, and crime rates are much more important."
   ]
  },
  {
   "cell_type": "markdown",
   "metadata": {},
   "source": [
    "### 3.2 (15%) - KNN Regression \n",
    "- Do random 80/20 train/test splits each time\n",
    "- Run with k=3\n",
    "- Print the score (coefficient of determination) and Mean Absolute Error (MAE) for the train and test set for the cases of\n",
    "  - No input normalization and no distance weighting\n",
    "  - Normalization and no distance weighting\n",
    "  - Normalization and distance weighting\n",
    "- Normalize inputs features where needed but do not normalize the output"
   ]
  },
  {
   "cell_type": "code",
   "execution_count": 275,
   "metadata": {
    "id": "KBGUn43ASiXW"
   },
   "outputs": [
    {
     "name": "stdout",
     "output_type": "stream",
     "text": [
      "No Input Normalization and No Distance Weighting:\n",
      "Training R2: 0.769, Training MAE: 3.176\n",
      "Testing R2: 0.331, Testing MAE: 4.032\n",
      "\n",
      "Normalization and No Distance Weighting:\n",
      "Training R2: 0.869, Training MAE: 2.082\n",
      "Testing R2: 0.797, Testing MAE: 2.693\n",
      "\n",
      "Normalization and Distance Weighting:\n",
      "Training R2: 1.000, Training MAE: 0.000\n",
      "Testing R2: 0.729, Testing MAE: 3.171\n"
     ]
    }
   ],
   "source": [
    "# Load the data\n",
    "data, meta = arff.loadarff(\"housing.arff\")\n",
    "df = pd.DataFrame(data)\n",
    "\n",
    "# Drop the inappropriate feature\n",
    "df.drop(\"B\", axis=1)\n",
    "\n",
    "# Separate features from targets\n",
    "X = df.iloc[:, :-1]\n",
    "y = df.iloc[:, -1]\n",
    "\n",
    "# 1. No input normalization and no distance weighting\n",
    "X_train, X_test, y_train, y_test = train_test_split(X, y, test_size=0.2)\n",
    "clf = KNeighborsRegressor(n_neighbors=3, weights='uniform')\n",
    "clf.fit(X_train, y_train)\n",
    "\n",
    "yTrainPred = clf.predict(X_train)\n",
    "trainR2 = r2_score(y_train, yTrainPred)\n",
    "trainMAE = mean_absolute_error(y_train, yTrainPred)\n",
    "\n",
    "yTestPred = clf.predict(X_test)\n",
    "testR2 = r2_score(y_test, yTestPred)\n",
    "testMAE = mean_absolute_error(y_test, yTestPred)\n",
    "\n",
    "print(\"No Input Normalization and No Distance Weighting:\")\n",
    "print(f\"Training R2: {trainR2:.3f}, Training MAE: {trainMAE:.3f}\")\n",
    "print(f\"Testing R2: {testR2:.3f}, Testing MAE: {testMAE:.3f}\\n\")\n",
    "\n",
    "# 2. Normalization and no distance weighting\n",
    "scaler = MinMaxScaler()\n",
    "X_normalized = scaler.fit_transform(X)\n",
    "\n",
    "X_train, X_test, y_train, y_test = train_test_split(X_normalized, y, test_size=0.2)\n",
    "clf = KNeighborsRegressor(n_neighbors=3, weights='uniform')\n",
    "clf.fit(X_train, y_train)\n",
    "\n",
    "yTrainPred = clf.predict(X_train)\n",
    "trainR2 = r2_score(y_train, yTrainPred)\n",
    "trainMAE = mean_absolute_error(y_train, yTrainPred)\n",
    "\n",
    "yTestPred = clf.predict(X_test)\n",
    "testR2 = r2_score(y_test, yTestPred)\n",
    "testMAE = mean_absolute_error(y_test, yTestPred)\n",
    "\n",
    "print(\"Normalization and No Distance Weighting:\")\n",
    "print(f\"Training R2: {trainR2:.3f}, Training MAE: {trainMAE:.3f}\")\n",
    "print(f\"Testing R2: {testR2:.3f}, Testing MAE: {testMAE:.3f}\\n\")\n",
    "\n",
    "# 3. Normalization and distance weighting\n",
    "X_train, X_test, y_train, y_test = train_test_split(X_normalized, y, test_size=0.2)\n",
    "clf = KNeighborsRegressor(n_neighbors=3, weights='distance')\n",
    "clf.fit(X_train, y_train)\n",
    "\n",
    "yTrainPred = clf.predict(X_train)\n",
    "trainR2 = r2_score(y_train, yTrainPred)\n",
    "trainMAE = mean_absolute_error(y_train, yTrainPred)\n",
    "\n",
    "yTestPred = clf.predict(X_test)\n",
    "testR2 = r2_score(y_test, yTestPred)\n",
    "testMAE = mean_absolute_error(y_test, yTestPred)\n",
    "\n",
    "print(\"Normalization and Distance Weighting:\")\n",
    "print(f\"Training R2: {trainR2:.3f}, Training MAE: {trainMAE:.3f}\")\n",
    "print(f\"Testing R2: {testR2:.3f}, Testing MAE: {testMAE:.3f}\")\n"
   ]
  },
  {
   "cell_type": "markdown",
   "metadata": {},
   "source": [
    "#### Discussion\n",
    "Discuss your results. How did the hyperparameters affect your results? Discuss each one and combinations of each."
   ]
  },
  {
   "cell_type": "markdown",
   "metadata": {},
   "source": [
    "As we normalize the data, and weight the features by distance, we get higher accuracy and lower error values. No normalization and No weighting is very low accuracy. Normalization and No Distance weighting is better, but as we can see, even with the memorized data after normalization AND distance weighting, we have higher test set accuracy and lower error values of both varieties."
   ]
  },
  {
   "cell_type": "markdown",
   "metadata": {},
   "source": [
    "### 3.3 (10%)  Different k Values\n",
    "- Using housing with normalized data and distance weighting, create one graph with MAE on the test set on the y-axis and k values on the x-axis\n",
    "- Use values of k from 1 to 15.  Use the same train/test split for each. "
   ]
  },
  {
   "cell_type": "code",
   "execution_count": 343,
   "metadata": {},
   "outputs": [
    {
     "name": "stdout",
     "output_type": "stream",
     "text": [
      "k=1, testMAE=3.03137\n",
      "k=2, testMAE=3.04586\n",
      "k=3, testMAE=3.16779\n",
      "k=4, testMAE=3.05191\n",
      "k=5, testMAE=3.14583\n",
      "k=6, testMAE=3.27010\n",
      "k=7, testMAE=3.39068\n",
      "k=8, testMAE=3.36893\n",
      "k=9, testMAE=3.41754\n",
      "k=10, testMAE=3.52808\n",
      "k=11, testMAE=3.52370\n",
      "k=12, testMAE=3.54656\n",
      "k=13, testMAE=3.55106\n",
      "k=14, testMAE=3.56381\n",
      "k=15, testMAE=3.58172\n"
     ]
    },
    {
     "data": {
      "image/png": "[encoded data removed]",
      "text/plain": [
       "<Figure size 1000x600 with 1 Axes>"
      ]
     },
     "metadata": {},
     "output_type": "display_data"
    }
   ],
   "source": [
    "# Learn and graph for different k values\n",
    "\n",
    "# Load the data\n",
    "data, meta = arff.loadarff(\"housing.arff\")\n",
    "df = pd.DataFrame(data)\n",
    "\n",
    "# Drop the inappropriate feature\n",
    "df.drop(\"B\", axis=1)\n",
    "\n",
    "# Separate features from targets\n",
    "X = df.iloc[:, :-1]\n",
    "y = df.iloc[:, -1]\n",
    "\n",
    "# Normalize the features\n",
    "scaler = MinMaxScaler()\n",
    "X_normalized = scaler.fit_transform(X)\n",
    "\n",
    "# Split the data\n",
    "X_train, X_test, y_train, y_test = train_test_split(X_normalized, y, test_size=0.2)\n",
    "\n",
    "# Create a list to store the graphable point (k, testMAE)\n",
    "points = []\n",
    "\n",
    "for k in range(1,16):\n",
    "    # Initialize the learner and fit it with the data\n",
    "    clf = KNeighborsRegressor(n_neighbors=k, weights='distance')\n",
    "    clf.fit(X_train, y_train)\n",
    "\n",
    "    # Get error values\n",
    "    yTrainPred = clf.predict(X_train)\n",
    "    trainR2 = r2_score(y_train, yTrainPred)\n",
    "    trainMAE = mean_absolute_error(y_train, yTrainPred)\n",
    "\n",
    "    yTestPred = clf.predict(X_test)\n",
    "    testR2 = r2_score(y_test, yTestPred)\n",
    "    testMAE = mean_absolute_error(y_test, yTestPred)\n",
    "\n",
    "    points.append((k, testMAE))\n",
    "\n",
    "k_values = []\n",
    "test_MAE = []\n",
    "\n",
    "for point in points:\n",
    "    k, mae = point\n",
    "    k_values.append(k)\n",
    "    test_MAE.append(mae)\n",
    "    print(f\"k={k}, testMAE={mae:.5f}\")\n",
    "\n",
    "# Graph MAE\n",
    "plt.figure(figsize=(10, 6))\n",
    "plt.plot(k_values, test_MAE, color='tab:red', label='Test MAE', marker='o')\n",
    "plt.xlabel('k (Number of Neighbors)')\n",
    "plt.ylabel('Test MAE', color='tab:red')\n",
    "plt.title('Test MAE vs k')\n",
    "plt.grid(True)\n",
    "plt.legend()\n",
    "plt.tight_layout()\n",
    "plt.show()\n"
   ]
  },
  {
   "cell_type": "markdown",
   "metadata": {},
   "source": [
    "#### Discussion\n",
    "How did the k values affect your results for this dataset? How does that compare to your previous work in this lab?"
   ]
  },
  {
   "cell_type": "markdown",
   "metadata": {},
   "source": [
    "Very similarly to what we did earlier, the higher k values generally correlate to increased accuracy. Like before, when we fit the data and store the values, there seems to be a sweet spot where a higher k value becomes detrimental to the dataset."
   ]
  },
  {
   "cell_type": "markdown",
   "metadata": {},
   "source": [
    "## 4. (20%) KNN with nominal and real data\n",
    "\n",
    "- Use the [lymph dataset](https://axon.cs.byu.edu/data/uci_class/lymph.arff)\n",
    "- Use a 80/20 split of the data for the training/test set\n",
    "- This dataset has both continuous and nominal attributes \n",
    "- Implement a distance metric which uses Euclidean distance for continuous features and 0/1 distance for nominal. Hints:\n",
    "    - Write your own distance function (e.g. mydist) and use clf = KNeighborsClassifier(metric=mydist)\n",
    "    - Change the nominal features in the data set to integer values since KNeighborsClassifier expects numeric features. I used Label_Encoder on the nominal features.\n",
    "    - Keep a list of which features are nominal which mydist can use to decide which distance measure to use\n",
    "    - There was an occasional bug in SK version 1.3.0 (\"Flags object has no attribute 'c_contiguous'\") that went away when I upgraded to the lastest SK version 1.3.1 \n",
    "- Use your own choice for k and other parameters"
   ]
  },
  {
   "cell_type": "code",
   "execution_count": 383,
   "metadata": {},
   "outputs": [
    {
     "name": "stdout",
     "output_type": "stream",
     "text": [
      "Training Accuracy: 1.000\n",
      "Testing Accuracy: 0.800\n"
     ]
    }
   ],
   "source": [
    "# Train/Predict lymph with your own distance metric\n",
    "\n",
    "# mydist\n",
    "def mydist(x, y):\n",
    "    # List of column indices for categorical features\n",
    "    categorical_indices = [0, 1, 2, 3, 4, 5, 6, 7, 10, 11, 12, 13, 14, 15, 16]  # adjust based on your dataset\n",
    "    \n",
    "    # Initialize distance\n",
    "    dist = 0.0\n",
    "\n",
    "    # Loop over all the features\n",
    "    for i in range(len(x)):\n",
    "        if i in categorical_indices:  # Categorical feature\n",
    "            dist += (x[i] != y[i])  # 0/1 distance\n",
    "        else:  # Continuous feature\n",
    "            dist += (x[i] - y[i]) ** 2  # Euclidean distance\n",
    "    \n",
    "    return np.sqrt(dist)\n",
    "\n",
    "# Load the data\n",
    "data, meta = arff.loadarff(\"lymph.arff\")\n",
    "df = pd.DataFrame(data)\n",
    "\n",
    "# Encode the featueres as well as the target variable.\n",
    "encoder = LabelEncoder()\n",
    "scaler = MinMaxScaler()\n",
    "\n",
    "# Separate features from targets\n",
    "X = df.iloc[:, :-1]\n",
    "y = df.iloc[:, -1]\n",
    "\n",
    "for col in X.columns:\n",
    "    X[col] = encoder.fit_transform(X[col])\n",
    "    X[col] = scaler.fit_transform(X[[col]])\n",
    "\n",
    "y = encoder.fit_transform(y)\n",
    "\n",
    "# Split the data\n",
    "X_train, X_test, y_train, y_test = train_test_split(X, y, test_size=0.2)\n",
    "\n",
    "# Define custom distance function\n",
    "\n",
    "# Initialize the learner with the custom distance metric\n",
    "clf = KNeighborsClassifier(n_neighbors=3, metric=mydist, weights='distance')\n",
    "clf.fit(X_train, y_train)\n",
    "\n",
    "# Get the training accuracy\n",
    "yTrainPred = clf.predict(X_train)\n",
    "trainAcc = accuracy_score(y_train, yTrainPred)\n",
    "print(f\"Training Accuracy: {trainAcc:.3f}\")\n",
    "\n",
    "# Get the testing accuracy\n",
    "yTestPred = clf.predict(X_test)\n",
    "testAcc = accuracy_score(y_test, yTestPred)\n",
    "print(f\"Testing Accuracy: {testAcc:.3f}\")"
   ]
  },
  {
   "cell_type": "markdown",
   "metadata": {},
   "source": [
    "#### Discussion\n",
    "Explain your distance metric and discuss your results"
   ]
  },
  {
   "cell_type": "markdown",
   "metadata": {},
   "source": [
    "** Your discussion goes here **"
   ]
  },
  {
   "cell_type": "markdown",
   "metadata": {},
   "source": [
    "## 5. (Optional 15% extra credit) Code up your own KNN Learner \n",
    "Below is a scaffold you could use if you want. Requirements for this task:\n",
    "- Your model should support the methods shown in the example scaffold below\n",
    "- Use Euclidean distance to decide closest neighbors\n",
    "- Implement both the classification and regression versions\n",
    "- Include optional distance weighting for both algorithms\n",
    "- Run your algorithm on the magic telescope and housing data sets above and discuss and compare your results "
   ]
  },
  {
   "cell_type": "markdown",
   "metadata": {},
   "source": [
    "*Discussion*"
   ]
  },
  {
   "cell_type": "code",
   "execution_count": null,
   "metadata": {},
   "outputs": [],
   "source": [
    "from sklearn.base import BaseEstimator, ClassifierMixin\n",
    "\n",
    "class KNNClassifier(BaseEstimator,ClassifierMixin):\n",
    "    def __init__(self, columntype=[], weight_type='inverse_distance'): ## add parameters here\n",
    "        \"\"\"\n",
    "        Args:\n",
    "            columntype for each column tells you if continues[real] or if nominal[categoritcal].\n",
    "            weight_type: inverse_distance voting or if non distance weighting. Options = [\"no_weight\",\"inverse_distance\"]\n",
    "        \"\"\"\n",
    "        self.columntype = columntype #Note This won't be needed until part 5\n",
    "        self.weight_type = weight_type\n",
    "\n",
    "    def fit(self, data, labels):\n",
    "        \"\"\" Fit the data; run the algorithm (for this lab really just saves the data :D)\n",
    "        Args:\n",
    "            X (array-like): A 2D numpy array with the training data, excluding targets\n",
    "            y (array-like): A 2D numpy array with the training targets\n",
    "        Returns:\n",
    "            self: this allows this to be chained, e.g. model.fit(X,y).predict(X_test)\n",
    "        \"\"\"\n",
    "        return self\n",
    "    \n",
    "    def predict(self, data):\n",
    "        \"\"\" Predict all classes for a dataset X\n",
    "        Args:\n",
    "            X (array-like): A 2D numpy array with the training data, excluding targets\n",
    "        Returns:\n",
    "            array, shape (n_samples,)\n",
    "                Predicted target values per element in X.\n",
    "        \"\"\"\n",
    "        pass\n",
    "\n",
    "    #Returns the Mean score given input data and labels\n",
    "    def score(self, X, y):\n",
    "        \"\"\" Return accuracy of model on a given dataset. Must implement own score function.\n",
    "        Args:\n",
    "            X (array-like): A 2D numpy array with data, excluding targets\n",
    "            y (array-like): A 2D numpy array with targets\n",
    "        Returns:\n",
    "            score : float\n",
    "                Mean accuracy of self.predict(X) wrt. y.\n",
    "        \"\"\"\n",
    "        return 0"
   ]
  }
 ],
 "metadata": {
  "colab": {
   "collapsed_sections": [],
   "name": "lab 1 - perceptron",
   "provenance": []
  },
  "kernelspec": {
   "display_name": "sklearn-env",
   "language": "python",
   "name": "python3"
  },
  "language_info": {
   "codemirror_mode": {
    "name": "ipython",
    "version": 3
   },
   "file_extension": ".py",
   "mimetype": "text/x-python",
   "name": "python",
   "nbconvert_exporter": "python",
   "pygments_lexer": "ipython3",
   "version": "3.11.9"
  }
 },
 "nbformat": 4,
 "nbformat_minor": 4
}
